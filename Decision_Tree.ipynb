{
  "cells": [
    {
      "cell_type": "markdown",
      "metadata": {
        "id": "view-in-github",
        "colab_type": "text"
      },
      "source": [
        "<a href=\"https://colab.research.google.com/github/taaha3244/joy-of-supML/blob/main/Decision_Tree.ipynb\" target=\"_parent\"><img src=\"https://colab.research.google.com/assets/colab-badge.svg\" alt=\"Open In Colab\"/></a>"
      ]
    },
    {
      "cell_type": "markdown",
      "id": "e91dce44",
      "metadata": {
        "id": "e91dce44"
      },
      "source": [
        "# About the dataset"
      ]
    },
    {
      "cell_type": "markdown",
      "id": "8e578b37",
      "metadata": {
        "id": "8e578b37"
      },
      "source": [
        "Age : Age of the patient\n",
        "\n",
        "Sex : Sex of the patient\n",
        "\n",
        "exang: exercise induced angina (1 = yes; 0 = no)\n",
        "\n",
        "ca: number of major vessels (0-3)\n",
        "\n",
        "cp : Chest Pain type chest pain type\n",
        "\n",
        "Value 1: typical angina\n",
        "Value 2: atypical angina\n",
        "Value 3: non-anginal pain\n",
        "Value 4: asymptomatic\n",
        "\n",
        "\n",
        "trtbps : resting blood pressure (in mm Hg)\n",
        "\n",
        "chol : cholestoral in mg/dl fetched via BMI sensor\n",
        "\n",
        "fbs : (fasting blood sugar > 120 mg/dl) (1 = true; 0 = false)\n",
        "\n",
        "rest_ecg : resting electrocardiographic results\n",
        "\n",
        "Value 0: normal\n",
        "Value 1: having ST-T wave abnormality\n",
        "Value 2:  left ventricular hypertrophy\n",
        "\n",
        "thalach : maximum heart rate achieved\n",
        "\n",
        "target : 0= less chance of heart attack 1= more chance of heart attack\n",
        "\n",
        "n"
      ]
    },
    {
      "cell_type": "code",
      "execution_count": null,
      "id": "c548a938",
      "metadata": {
        "id": "c548a938"
      },
      "outputs": [],
      "source": [
        "import pandas as pd\n",
        "import numpy as np\n",
        "import matplotlib.pyplot as plt\n",
        "import seaborn as sns"
      ]
    },
    {
      "cell_type": "code",
      "execution_count": null,
      "id": "e007c7da",
      "metadata": {
        "id": "e007c7da"
      },
      "outputs": [],
      "source": [
        "heart=pd.read_csv(\"D:\\Exercises and Datasources\\Datasets\\heart_attack\\heart.csv\")"
      ]
    },
    {
      "cell_type": "markdown",
      "id": "8ba9b786",
      "metadata": {
        "id": "8ba9b786"
      },
      "source": [
        "**Checking the shape of the dataset**"
      ]
    },
    {
      "cell_type": "code",
      "execution_count": null,
      "id": "b423f161",
      "metadata": {
        "id": "b423f161",
        "outputId": "e90978ba-4828-4ae9-8ad1-e19a46497506"
      },
      "outputs": [
        {
          "data": {
            "text/plain": [
              "(303, 14)"
            ]
          },
          "execution_count": 3,
          "metadata": {},
          "output_type": "execute_result"
        }
      ],
      "source": [
        "heart.shape"
      ]
    },
    {
      "cell_type": "code",
      "execution_count": null,
      "id": "6fe1141a",
      "metadata": {
        "scrolled": true,
        "id": "6fe1141a",
        "outputId": "bd2d1887-2d6a-472b-8d87-1c8722cd4bdf"
      },
      "outputs": [
        {
          "data": {
            "text/html": [
              "<div>\n",
              "<style scoped>\n",
              "    .dataframe tbody tr th:only-of-type {\n",
              "        vertical-align: middle;\n",
              "    }\n",
              "\n",
              "    .dataframe tbody tr th {\n",
              "        vertical-align: top;\n",
              "    }\n",
              "\n",
              "    .dataframe thead th {\n",
              "        text-align: right;\n",
              "    }\n",
              "</style>\n",
              "<table border=\"1\" class=\"dataframe\">\n",
              "  <thead>\n",
              "    <tr style=\"text-align: right;\">\n",
              "      <th></th>\n",
              "      <th>age</th>\n",
              "      <th>sex</th>\n",
              "      <th>cp</th>\n",
              "      <th>trtbps</th>\n",
              "      <th>chol</th>\n",
              "      <th>fbs</th>\n",
              "      <th>restecg</th>\n",
              "      <th>thalachh</th>\n",
              "      <th>exng</th>\n",
              "      <th>oldpeak</th>\n",
              "      <th>slp</th>\n",
              "      <th>caa</th>\n",
              "      <th>thall</th>\n",
              "      <th>output</th>\n",
              "    </tr>\n",
              "  </thead>\n",
              "  <tbody>\n",
              "    <tr>\n",
              "      <th>0</th>\n",
              "      <td>63</td>\n",
              "      <td>1</td>\n",
              "      <td>3</td>\n",
              "      <td>145</td>\n",
              "      <td>233</td>\n",
              "      <td>1</td>\n",
              "      <td>0</td>\n",
              "      <td>150</td>\n",
              "      <td>0</td>\n",
              "      <td>2.3</td>\n",
              "      <td>0</td>\n",
              "      <td>0</td>\n",
              "      <td>1</td>\n",
              "      <td>1</td>\n",
              "    </tr>\n",
              "    <tr>\n",
              "      <th>1</th>\n",
              "      <td>37</td>\n",
              "      <td>1</td>\n",
              "      <td>2</td>\n",
              "      <td>130</td>\n",
              "      <td>250</td>\n",
              "      <td>0</td>\n",
              "      <td>1</td>\n",
              "      <td>187</td>\n",
              "      <td>0</td>\n",
              "      <td>3.5</td>\n",
              "      <td>0</td>\n",
              "      <td>0</td>\n",
              "      <td>2</td>\n",
              "      <td>1</td>\n",
              "    </tr>\n",
              "    <tr>\n",
              "      <th>2</th>\n",
              "      <td>41</td>\n",
              "      <td>0</td>\n",
              "      <td>1</td>\n",
              "      <td>130</td>\n",
              "      <td>204</td>\n",
              "      <td>0</td>\n",
              "      <td>0</td>\n",
              "      <td>172</td>\n",
              "      <td>0</td>\n",
              "      <td>1.4</td>\n",
              "      <td>2</td>\n",
              "      <td>0</td>\n",
              "      <td>2</td>\n",
              "      <td>1</td>\n",
              "    </tr>\n",
              "    <tr>\n",
              "      <th>3</th>\n",
              "      <td>56</td>\n",
              "      <td>1</td>\n",
              "      <td>1</td>\n",
              "      <td>120</td>\n",
              "      <td>236</td>\n",
              "      <td>0</td>\n",
              "      <td>1</td>\n",
              "      <td>178</td>\n",
              "      <td>0</td>\n",
              "      <td>0.8</td>\n",
              "      <td>2</td>\n",
              "      <td>0</td>\n",
              "      <td>2</td>\n",
              "      <td>1</td>\n",
              "    </tr>\n",
              "    <tr>\n",
              "      <th>4</th>\n",
              "      <td>57</td>\n",
              "      <td>0</td>\n",
              "      <td>0</td>\n",
              "      <td>120</td>\n",
              "      <td>354</td>\n",
              "      <td>0</td>\n",
              "      <td>1</td>\n",
              "      <td>163</td>\n",
              "      <td>1</td>\n",
              "      <td>0.6</td>\n",
              "      <td>2</td>\n",
              "      <td>0</td>\n",
              "      <td>2</td>\n",
              "      <td>1</td>\n",
              "    </tr>\n",
              "  </tbody>\n",
              "</table>\n",
              "</div>"
            ],
            "text/plain": [
              "   age  sex  cp  trtbps  chol  fbs  restecg  thalachh  exng  oldpeak  slp  \\\n",
              "0   63    1   3     145   233    1        0       150     0      2.3    0   \n",
              "1   37    1   2     130   250    0        1       187     0      3.5    0   \n",
              "2   41    0   1     130   204    0        0       172     0      1.4    2   \n",
              "3   56    1   1     120   236    0        1       178     0      0.8    2   \n",
              "4   57    0   0     120   354    0        1       163     1      0.6    2   \n",
              "\n",
              "   caa  thall  output  \n",
              "0    0      1       1  \n",
              "1    0      2       1  \n",
              "2    0      2       1  \n",
              "3    0      2       1  \n",
              "4    0      2       1  "
            ]
          },
          "execution_count": 4,
          "metadata": {},
          "output_type": "execute_result"
        }
      ],
      "source": [
        "heart.head()"
      ]
    },
    {
      "cell_type": "markdown",
      "id": "e6549c30",
      "metadata": {
        "id": "e6549c30"
      },
      "source": [
        "**Looking for null values**"
      ]
    },
    {
      "cell_type": "code",
      "execution_count": null,
      "id": "6e9e2c7a",
      "metadata": {
        "id": "6e9e2c7a",
        "outputId": "75d7c760-17e3-4737-8924-ac73af03f91a"
      },
      "outputs": [
        {
          "data": {
            "text/plain": [
              "age         0\n",
              "sex         0\n",
              "cp          0\n",
              "trtbps      0\n",
              "chol        0\n",
              "fbs         0\n",
              "restecg     0\n",
              "thalachh    0\n",
              "exng        0\n",
              "oldpeak     0\n",
              "slp         0\n",
              "caa         0\n",
              "thall       0\n",
              "output      0\n",
              "dtype: int64"
            ]
          },
          "execution_count": 5,
          "metadata": {},
          "output_type": "execute_result"
        }
      ],
      "source": [
        "heart.isnull().sum()"
      ]
    },
    {
      "cell_type": "markdown",
      "id": "fd8e2693",
      "metadata": {
        "id": "fd8e2693"
      },
      "source": [
        "No nulls Found ...."
      ]
    },
    {
      "cell_type": "markdown",
      "id": "3b5a31e0",
      "metadata": {
        "id": "3b5a31e0"
      },
      "source": [
        "**Checking Data Types**"
      ]
    },
    {
      "cell_type": "code",
      "execution_count": null,
      "id": "eb735086",
      "metadata": {
        "id": "eb735086",
        "outputId": "9881dc50-a0b9-4ddc-a6f8-3f4a394ee2ec"
      },
      "outputs": [
        {
          "data": {
            "text/plain": [
              "age           int64\n",
              "sex           int64\n",
              "cp            int64\n",
              "trtbps        int64\n",
              "chol          int64\n",
              "fbs           int64\n",
              "restecg       int64\n",
              "thalachh      int64\n",
              "exng          int64\n",
              "oldpeak     float64\n",
              "slp           int64\n",
              "caa           int64\n",
              "thall         int64\n",
              "output        int64\n",
              "dtype: object"
            ]
          },
          "execution_count": 6,
          "metadata": {},
          "output_type": "execute_result"
        }
      ],
      "source": [
        "heart.dtypes"
      ]
    },
    {
      "cell_type": "markdown",
      "id": "217d1af8",
      "metadata": {
        "id": "217d1af8"
      },
      "source": [
        "All attributes are int64 except 'oldpeak'"
      ]
    },
    {
      "cell_type": "markdown",
      "id": "c0c829ec",
      "metadata": {
        "id": "c0c829ec"
      },
      "source": [
        "**Looking for duplicates**"
      ]
    },
    {
      "cell_type": "code",
      "execution_count": null,
      "id": "f1e72011",
      "metadata": {
        "id": "f1e72011",
        "outputId": "c5a7d602-01b5-4b21-ced4-4933acb4a055"
      },
      "outputs": [
        {
          "data": {
            "text/plain": [
              "1"
            ]
          },
          "execution_count": 7,
          "metadata": {},
          "output_type": "execute_result"
        }
      ],
      "source": [
        "heart.duplicated().sum()"
      ]
    },
    {
      "cell_type": "code",
      "execution_count": null,
      "id": "976c6250",
      "metadata": {
        "id": "976c6250"
      },
      "outputs": [],
      "source": [
        "#Dropping duplicate\n",
        "heart.drop_duplicates(keep='first',inplace=True)"
      ]
    },
    {
      "cell_type": "code",
      "execution_count": null,
      "id": "911ed9db",
      "metadata": {
        "id": "911ed9db",
        "outputId": "8e22ec85-e6da-43eb-d1db-6ee139cd4f0c"
      },
      "outputs": [
        {
          "data": {
            "text/html": [
              "<div>\n",
              "<style scoped>\n",
              "    .dataframe tbody tr th:only-of-type {\n",
              "        vertical-align: middle;\n",
              "    }\n",
              "\n",
              "    .dataframe tbody tr th {\n",
              "        vertical-align: top;\n",
              "    }\n",
              "\n",
              "    .dataframe thead th {\n",
              "        text-align: right;\n",
              "    }\n",
              "</style>\n",
              "<table border=\"1\" class=\"dataframe\">\n",
              "  <thead>\n",
              "    <tr style=\"text-align: right;\">\n",
              "      <th></th>\n",
              "      <th>age</th>\n",
              "      <th>sex</th>\n",
              "      <th>cp</th>\n",
              "      <th>trtbps</th>\n",
              "      <th>chol</th>\n",
              "      <th>fbs</th>\n",
              "      <th>restecg</th>\n",
              "      <th>thalachh</th>\n",
              "      <th>exng</th>\n",
              "      <th>oldpeak</th>\n",
              "      <th>slp</th>\n",
              "      <th>caa</th>\n",
              "      <th>thall</th>\n",
              "      <th>output</th>\n",
              "    </tr>\n",
              "  </thead>\n",
              "  <tbody>\n",
              "  </tbody>\n",
              "</table>\n",
              "</div>"
            ],
            "text/plain": [
              "Empty DataFrame\n",
              "Columns: [age, sex, cp, trtbps, chol, fbs, restecg, thalachh, exng, oldpeak, slp, caa, thall, output]\n",
              "Index: []"
            ]
          },
          "execution_count": 9,
          "metadata": {},
          "output_type": "execute_result"
        }
      ],
      "source": [
        "heart[heart.duplicated()]"
      ]
    },
    {
      "cell_type": "markdown",
      "id": "a2c7ea08",
      "metadata": {
        "id": "a2c7ea08"
      },
      "source": [
        "**Checking new shape**"
      ]
    },
    {
      "cell_type": "code",
      "execution_count": null,
      "id": "d8a5bd56",
      "metadata": {
        "id": "d8a5bd56",
        "outputId": "6df78d8a-e91d-48de-cda4-5e849fac707c"
      },
      "outputs": [
        {
          "data": {
            "text/plain": [
              "(302, 14)"
            ]
          },
          "execution_count": 10,
          "metadata": {},
          "output_type": "execute_result"
        }
      ],
      "source": [
        "heart.shape"
      ]
    },
    {
      "cell_type": "markdown",
      "id": "944a3143",
      "metadata": {
        "id": "944a3143"
      },
      "source": [
        "**Looking for statistical data"
      ]
    },
    {
      "cell_type": "code",
      "execution_count": null,
      "id": "67ea9e62",
      "metadata": {
        "id": "67ea9e62",
        "outputId": "1c6905a4-84d1-471b-9d31-e54124c1430a"
      },
      "outputs": [
        {
          "data": {
            "text/html": [
              "<div>\n",
              "<style scoped>\n",
              "    .dataframe tbody tr th:only-of-type {\n",
              "        vertical-align: middle;\n",
              "    }\n",
              "\n",
              "    .dataframe tbody tr th {\n",
              "        vertical-align: top;\n",
              "    }\n",
              "\n",
              "    .dataframe thead th {\n",
              "        text-align: right;\n",
              "    }\n",
              "</style>\n",
              "<table border=\"1\" class=\"dataframe\">\n",
              "  <thead>\n",
              "    <tr style=\"text-align: right;\">\n",
              "      <th></th>\n",
              "      <th>age</th>\n",
              "      <th>sex</th>\n",
              "      <th>cp</th>\n",
              "      <th>trtbps</th>\n",
              "      <th>chol</th>\n",
              "      <th>fbs</th>\n",
              "      <th>restecg</th>\n",
              "      <th>thalachh</th>\n",
              "      <th>exng</th>\n",
              "      <th>oldpeak</th>\n",
              "      <th>slp</th>\n",
              "      <th>caa</th>\n",
              "      <th>thall</th>\n",
              "      <th>output</th>\n",
              "    </tr>\n",
              "  </thead>\n",
              "  <tbody>\n",
              "    <tr>\n",
              "      <th>count</th>\n",
              "      <td>302.00000</td>\n",
              "      <td>302.000000</td>\n",
              "      <td>302.000000</td>\n",
              "      <td>302.000000</td>\n",
              "      <td>302.000000</td>\n",
              "      <td>302.000000</td>\n",
              "      <td>302.000000</td>\n",
              "      <td>302.000000</td>\n",
              "      <td>302.000000</td>\n",
              "      <td>302.000000</td>\n",
              "      <td>302.000000</td>\n",
              "      <td>302.000000</td>\n",
              "      <td>302.000000</td>\n",
              "      <td>302.000000</td>\n",
              "    </tr>\n",
              "    <tr>\n",
              "      <th>mean</th>\n",
              "      <td>54.42053</td>\n",
              "      <td>0.682119</td>\n",
              "      <td>0.963576</td>\n",
              "      <td>131.602649</td>\n",
              "      <td>246.500000</td>\n",
              "      <td>0.149007</td>\n",
              "      <td>0.526490</td>\n",
              "      <td>149.569536</td>\n",
              "      <td>0.327815</td>\n",
              "      <td>1.043046</td>\n",
              "      <td>1.397351</td>\n",
              "      <td>0.718543</td>\n",
              "      <td>2.314570</td>\n",
              "      <td>0.543046</td>\n",
              "    </tr>\n",
              "    <tr>\n",
              "      <th>std</th>\n",
              "      <td>9.04797</td>\n",
              "      <td>0.466426</td>\n",
              "      <td>1.032044</td>\n",
              "      <td>17.563394</td>\n",
              "      <td>51.753489</td>\n",
              "      <td>0.356686</td>\n",
              "      <td>0.526027</td>\n",
              "      <td>22.903527</td>\n",
              "      <td>0.470196</td>\n",
              "      <td>1.161452</td>\n",
              "      <td>0.616274</td>\n",
              "      <td>1.006748</td>\n",
              "      <td>0.613026</td>\n",
              "      <td>0.498970</td>\n",
              "    </tr>\n",
              "    <tr>\n",
              "      <th>min</th>\n",
              "      <td>29.00000</td>\n",
              "      <td>0.000000</td>\n",
              "      <td>0.000000</td>\n",
              "      <td>94.000000</td>\n",
              "      <td>126.000000</td>\n",
              "      <td>0.000000</td>\n",
              "      <td>0.000000</td>\n",
              "      <td>71.000000</td>\n",
              "      <td>0.000000</td>\n",
              "      <td>0.000000</td>\n",
              "      <td>0.000000</td>\n",
              "      <td>0.000000</td>\n",
              "      <td>0.000000</td>\n",
              "      <td>0.000000</td>\n",
              "    </tr>\n",
              "    <tr>\n",
              "      <th>25%</th>\n",
              "      <td>48.00000</td>\n",
              "      <td>0.000000</td>\n",
              "      <td>0.000000</td>\n",
              "      <td>120.000000</td>\n",
              "      <td>211.000000</td>\n",
              "      <td>0.000000</td>\n",
              "      <td>0.000000</td>\n",
              "      <td>133.250000</td>\n",
              "      <td>0.000000</td>\n",
              "      <td>0.000000</td>\n",
              "      <td>1.000000</td>\n",
              "      <td>0.000000</td>\n",
              "      <td>2.000000</td>\n",
              "      <td>0.000000</td>\n",
              "    </tr>\n",
              "    <tr>\n",
              "      <th>50%</th>\n",
              "      <td>55.50000</td>\n",
              "      <td>1.000000</td>\n",
              "      <td>1.000000</td>\n",
              "      <td>130.000000</td>\n",
              "      <td>240.500000</td>\n",
              "      <td>0.000000</td>\n",
              "      <td>1.000000</td>\n",
              "      <td>152.500000</td>\n",
              "      <td>0.000000</td>\n",
              "      <td>0.800000</td>\n",
              "      <td>1.000000</td>\n",
              "      <td>0.000000</td>\n",
              "      <td>2.000000</td>\n",
              "      <td>1.000000</td>\n",
              "    </tr>\n",
              "    <tr>\n",
              "      <th>75%</th>\n",
              "      <td>61.00000</td>\n",
              "      <td>1.000000</td>\n",
              "      <td>2.000000</td>\n",
              "      <td>140.000000</td>\n",
              "      <td>274.750000</td>\n",
              "      <td>0.000000</td>\n",
              "      <td>1.000000</td>\n",
              "      <td>166.000000</td>\n",
              "      <td>1.000000</td>\n",
              "      <td>1.600000</td>\n",
              "      <td>2.000000</td>\n",
              "      <td>1.000000</td>\n",
              "      <td>3.000000</td>\n",
              "      <td>1.000000</td>\n",
              "    </tr>\n",
              "    <tr>\n",
              "      <th>max</th>\n",
              "      <td>77.00000</td>\n",
              "      <td>1.000000</td>\n",
              "      <td>3.000000</td>\n",
              "      <td>200.000000</td>\n",
              "      <td>564.000000</td>\n",
              "      <td>1.000000</td>\n",
              "      <td>2.000000</td>\n",
              "      <td>202.000000</td>\n",
              "      <td>1.000000</td>\n",
              "      <td>6.200000</td>\n",
              "      <td>2.000000</td>\n",
              "      <td>4.000000</td>\n",
              "      <td>3.000000</td>\n",
              "      <td>1.000000</td>\n",
              "    </tr>\n",
              "  </tbody>\n",
              "</table>\n",
              "</div>"
            ],
            "text/plain": [
              "             age         sex          cp      trtbps        chol         fbs  \\\n",
              "count  302.00000  302.000000  302.000000  302.000000  302.000000  302.000000   \n",
              "mean    54.42053    0.682119    0.963576  131.602649  246.500000    0.149007   \n",
              "std      9.04797    0.466426    1.032044   17.563394   51.753489    0.356686   \n",
              "min     29.00000    0.000000    0.000000   94.000000  126.000000    0.000000   \n",
              "25%     48.00000    0.000000    0.000000  120.000000  211.000000    0.000000   \n",
              "50%     55.50000    1.000000    1.000000  130.000000  240.500000    0.000000   \n",
              "75%     61.00000    1.000000    2.000000  140.000000  274.750000    0.000000   \n",
              "max     77.00000    1.000000    3.000000  200.000000  564.000000    1.000000   \n",
              "\n",
              "          restecg    thalachh        exng     oldpeak         slp         caa  \\\n",
              "count  302.000000  302.000000  302.000000  302.000000  302.000000  302.000000   \n",
              "mean     0.526490  149.569536    0.327815    1.043046    1.397351    0.718543   \n",
              "std      0.526027   22.903527    0.470196    1.161452    0.616274    1.006748   \n",
              "min      0.000000   71.000000    0.000000    0.000000    0.000000    0.000000   \n",
              "25%      0.000000  133.250000    0.000000    0.000000    1.000000    0.000000   \n",
              "50%      1.000000  152.500000    0.000000    0.800000    1.000000    0.000000   \n",
              "75%      1.000000  166.000000    1.000000    1.600000    2.000000    1.000000   \n",
              "max      2.000000  202.000000    1.000000    6.200000    2.000000    4.000000   \n",
              "\n",
              "            thall      output  \n",
              "count  302.000000  302.000000  \n",
              "mean     2.314570    0.543046  \n",
              "std      0.613026    0.498970  \n",
              "min      0.000000    0.000000  \n",
              "25%      2.000000    0.000000  \n",
              "50%      2.000000    1.000000  \n",
              "75%      3.000000    1.000000  \n",
              "max      3.000000    1.000000  "
            ]
          },
          "execution_count": 11,
          "metadata": {},
          "output_type": "execute_result"
        }
      ],
      "source": [
        "heart.describe()"
      ]
    },
    {
      "cell_type": "code",
      "execution_count": null,
      "id": "f97b52fe",
      "metadata": {
        "id": "f97b52fe",
        "outputId": "efae4e4a-d342-4c4f-c3f2-dddf64b4240e"
      },
      "outputs": [
        {
          "data": {
            "text/html": [
              "<div>\n",
              "<style scoped>\n",
              "    .dataframe tbody tr th:only-of-type {\n",
              "        vertical-align: middle;\n",
              "    }\n",
              "\n",
              "    .dataframe tbody tr th {\n",
              "        vertical-align: top;\n",
              "    }\n",
              "\n",
              "    .dataframe thead th {\n",
              "        text-align: right;\n",
              "    }\n",
              "</style>\n",
              "<table border=\"1\" class=\"dataframe\">\n",
              "  <thead>\n",
              "    <tr style=\"text-align: right;\">\n",
              "      <th></th>\n",
              "      <th>age</th>\n",
              "      <th>sex</th>\n",
              "      <th>cp</th>\n",
              "      <th>trtbps</th>\n",
              "      <th>chol</th>\n",
              "      <th>fbs</th>\n",
              "      <th>restecg</th>\n",
              "      <th>thalachh</th>\n",
              "      <th>exng</th>\n",
              "      <th>oldpeak</th>\n",
              "      <th>slp</th>\n",
              "      <th>caa</th>\n",
              "      <th>thall</th>\n",
              "      <th>output</th>\n",
              "    </tr>\n",
              "  </thead>\n",
              "  <tbody>\n",
              "    <tr>\n",
              "      <th>age</th>\n",
              "      <td>1.000000</td>\n",
              "      <td>-0.094962</td>\n",
              "      <td>-0.063107</td>\n",
              "      <td>0.283121</td>\n",
              "      <td>0.207216</td>\n",
              "      <td>0.119492</td>\n",
              "      <td>-0.111590</td>\n",
              "      <td>-0.395235</td>\n",
              "      <td>0.093216</td>\n",
              "      <td>0.206040</td>\n",
              "      <td>-0.164124</td>\n",
              "      <td>0.302261</td>\n",
              "      <td>0.065317</td>\n",
              "      <td>-0.221476</td>\n",
              "    </tr>\n",
              "    <tr>\n",
              "      <th>sex</th>\n",
              "      <td>-0.094962</td>\n",
              "      <td>1.000000</td>\n",
              "      <td>-0.051740</td>\n",
              "      <td>-0.057647</td>\n",
              "      <td>-0.195571</td>\n",
              "      <td>0.046022</td>\n",
              "      <td>-0.060351</td>\n",
              "      <td>-0.046439</td>\n",
              "      <td>0.143460</td>\n",
              "      <td>0.098322</td>\n",
              "      <td>-0.032990</td>\n",
              "      <td>0.113060</td>\n",
              "      <td>0.211452</td>\n",
              "      <td>-0.283609</td>\n",
              "    </tr>\n",
              "    <tr>\n",
              "      <th>cp</th>\n",
              "      <td>-0.063107</td>\n",
              "      <td>-0.051740</td>\n",
              "      <td>1.000000</td>\n",
              "      <td>0.046486</td>\n",
              "      <td>-0.072682</td>\n",
              "      <td>0.096018</td>\n",
              "      <td>0.041561</td>\n",
              "      <td>0.293367</td>\n",
              "      <td>-0.392937</td>\n",
              "      <td>-0.146692</td>\n",
              "      <td>0.116854</td>\n",
              "      <td>-0.195356</td>\n",
              "      <td>-0.160370</td>\n",
              "      <td>0.432080</td>\n",
              "    </tr>\n",
              "    <tr>\n",
              "      <th>trtbps</th>\n",
              "      <td>0.283121</td>\n",
              "      <td>-0.057647</td>\n",
              "      <td>0.046486</td>\n",
              "      <td>1.000000</td>\n",
              "      <td>0.125256</td>\n",
              "      <td>0.178125</td>\n",
              "      <td>-0.115367</td>\n",
              "      <td>-0.048023</td>\n",
              "      <td>0.068526</td>\n",
              "      <td>0.194600</td>\n",
              "      <td>-0.122873</td>\n",
              "      <td>0.099248</td>\n",
              "      <td>0.062870</td>\n",
              "      <td>-0.146269</td>\n",
              "    </tr>\n",
              "    <tr>\n",
              "      <th>chol</th>\n",
              "      <td>0.207216</td>\n",
              "      <td>-0.195571</td>\n",
              "      <td>-0.072682</td>\n",
              "      <td>0.125256</td>\n",
              "      <td>1.000000</td>\n",
              "      <td>0.011428</td>\n",
              "      <td>-0.147602</td>\n",
              "      <td>-0.005308</td>\n",
              "      <td>0.064099</td>\n",
              "      <td>0.050086</td>\n",
              "      <td>0.000417</td>\n",
              "      <td>0.086878</td>\n",
              "      <td>0.096810</td>\n",
              "      <td>-0.081437</td>\n",
              "    </tr>\n",
              "    <tr>\n",
              "      <th>fbs</th>\n",
              "      <td>0.119492</td>\n",
              "      <td>0.046022</td>\n",
              "      <td>0.096018</td>\n",
              "      <td>0.178125</td>\n",
              "      <td>0.011428</td>\n",
              "      <td>1.000000</td>\n",
              "      <td>-0.083081</td>\n",
              "      <td>-0.007169</td>\n",
              "      <td>0.024729</td>\n",
              "      <td>0.004514</td>\n",
              "      <td>-0.058654</td>\n",
              "      <td>0.144935</td>\n",
              "      <td>-0.032752</td>\n",
              "      <td>-0.026826</td>\n",
              "    </tr>\n",
              "    <tr>\n",
              "      <th>restecg</th>\n",
              "      <td>-0.111590</td>\n",
              "      <td>-0.060351</td>\n",
              "      <td>0.041561</td>\n",
              "      <td>-0.115367</td>\n",
              "      <td>-0.147602</td>\n",
              "      <td>-0.083081</td>\n",
              "      <td>1.000000</td>\n",
              "      <td>0.041210</td>\n",
              "      <td>-0.068807</td>\n",
              "      <td>-0.056251</td>\n",
              "      <td>0.090402</td>\n",
              "      <td>-0.083112</td>\n",
              "      <td>-0.010473</td>\n",
              "      <td>0.134874</td>\n",
              "    </tr>\n",
              "    <tr>\n",
              "      <th>thalachh</th>\n",
              "      <td>-0.395235</td>\n",
              "      <td>-0.046439</td>\n",
              "      <td>0.293367</td>\n",
              "      <td>-0.048023</td>\n",
              "      <td>-0.005308</td>\n",
              "      <td>-0.007169</td>\n",
              "      <td>0.041210</td>\n",
              "      <td>1.000000</td>\n",
              "      <td>-0.377411</td>\n",
              "      <td>-0.342201</td>\n",
              "      <td>0.384754</td>\n",
              "      <td>-0.228311</td>\n",
              "      <td>-0.094910</td>\n",
              "      <td>0.419955</td>\n",
              "    </tr>\n",
              "    <tr>\n",
              "      <th>exng</th>\n",
              "      <td>0.093216</td>\n",
              "      <td>0.143460</td>\n",
              "      <td>-0.392937</td>\n",
              "      <td>0.068526</td>\n",
              "      <td>0.064099</td>\n",
              "      <td>0.024729</td>\n",
              "      <td>-0.068807</td>\n",
              "      <td>-0.377411</td>\n",
              "      <td>1.000000</td>\n",
              "      <td>0.286766</td>\n",
              "      <td>-0.256106</td>\n",
              "      <td>0.125377</td>\n",
              "      <td>0.205826</td>\n",
              "      <td>-0.435601</td>\n",
              "    </tr>\n",
              "    <tr>\n",
              "      <th>oldpeak</th>\n",
              "      <td>0.206040</td>\n",
              "      <td>0.098322</td>\n",
              "      <td>-0.146692</td>\n",
              "      <td>0.194600</td>\n",
              "      <td>0.050086</td>\n",
              "      <td>0.004514</td>\n",
              "      <td>-0.056251</td>\n",
              "      <td>-0.342201</td>\n",
              "      <td>0.286766</td>\n",
              "      <td>1.000000</td>\n",
              "      <td>-0.576314</td>\n",
              "      <td>0.236560</td>\n",
              "      <td>0.209090</td>\n",
              "      <td>-0.429146</td>\n",
              "    </tr>\n",
              "    <tr>\n",
              "      <th>slp</th>\n",
              "      <td>-0.164124</td>\n",
              "      <td>-0.032990</td>\n",
              "      <td>0.116854</td>\n",
              "      <td>-0.122873</td>\n",
              "      <td>0.000417</td>\n",
              "      <td>-0.058654</td>\n",
              "      <td>0.090402</td>\n",
              "      <td>0.384754</td>\n",
              "      <td>-0.256106</td>\n",
              "      <td>-0.576314</td>\n",
              "      <td>1.000000</td>\n",
              "      <td>-0.092236</td>\n",
              "      <td>-0.103314</td>\n",
              "      <td>0.343940</td>\n",
              "    </tr>\n",
              "    <tr>\n",
              "      <th>caa</th>\n",
              "      <td>0.302261</td>\n",
              "      <td>0.113060</td>\n",
              "      <td>-0.195356</td>\n",
              "      <td>0.099248</td>\n",
              "      <td>0.086878</td>\n",
              "      <td>0.144935</td>\n",
              "      <td>-0.083112</td>\n",
              "      <td>-0.228311</td>\n",
              "      <td>0.125377</td>\n",
              "      <td>0.236560</td>\n",
              "      <td>-0.092236</td>\n",
              "      <td>1.000000</td>\n",
              "      <td>0.160085</td>\n",
              "      <td>-0.408992</td>\n",
              "    </tr>\n",
              "    <tr>\n",
              "      <th>thall</th>\n",
              "      <td>0.065317</td>\n",
              "      <td>0.211452</td>\n",
              "      <td>-0.160370</td>\n",
              "      <td>0.062870</td>\n",
              "      <td>0.096810</td>\n",
              "      <td>-0.032752</td>\n",
              "      <td>-0.010473</td>\n",
              "      <td>-0.094910</td>\n",
              "      <td>0.205826</td>\n",
              "      <td>0.209090</td>\n",
              "      <td>-0.103314</td>\n",
              "      <td>0.160085</td>\n",
              "      <td>1.000000</td>\n",
              "      <td>-0.343101</td>\n",
              "    </tr>\n",
              "    <tr>\n",
              "      <th>output</th>\n",
              "      <td>-0.221476</td>\n",
              "      <td>-0.283609</td>\n",
              "      <td>0.432080</td>\n",
              "      <td>-0.146269</td>\n",
              "      <td>-0.081437</td>\n",
              "      <td>-0.026826</td>\n",
              "      <td>0.134874</td>\n",
              "      <td>0.419955</td>\n",
              "      <td>-0.435601</td>\n",
              "      <td>-0.429146</td>\n",
              "      <td>0.343940</td>\n",
              "      <td>-0.408992</td>\n",
              "      <td>-0.343101</td>\n",
              "      <td>1.000000</td>\n",
              "    </tr>\n",
              "  </tbody>\n",
              "</table>\n",
              "</div>"
            ],
            "text/plain": [
              "               age       sex        cp    trtbps      chol       fbs  \\\n",
              "age       1.000000 -0.094962 -0.063107  0.283121  0.207216  0.119492   \n",
              "sex      -0.094962  1.000000 -0.051740 -0.057647 -0.195571  0.046022   \n",
              "cp       -0.063107 -0.051740  1.000000  0.046486 -0.072682  0.096018   \n",
              "trtbps    0.283121 -0.057647  0.046486  1.000000  0.125256  0.178125   \n",
              "chol      0.207216 -0.195571 -0.072682  0.125256  1.000000  0.011428   \n",
              "fbs       0.119492  0.046022  0.096018  0.178125  0.011428  1.000000   \n",
              "restecg  -0.111590 -0.060351  0.041561 -0.115367 -0.147602 -0.083081   \n",
              "thalachh -0.395235 -0.046439  0.293367 -0.048023 -0.005308 -0.007169   \n",
              "exng      0.093216  0.143460 -0.392937  0.068526  0.064099  0.024729   \n",
              "oldpeak   0.206040  0.098322 -0.146692  0.194600  0.050086  0.004514   \n",
              "slp      -0.164124 -0.032990  0.116854 -0.122873  0.000417 -0.058654   \n",
              "caa       0.302261  0.113060 -0.195356  0.099248  0.086878  0.144935   \n",
              "thall     0.065317  0.211452 -0.160370  0.062870  0.096810 -0.032752   \n",
              "output   -0.221476 -0.283609  0.432080 -0.146269 -0.081437 -0.026826   \n",
              "\n",
              "           restecg  thalachh      exng   oldpeak       slp       caa  \\\n",
              "age      -0.111590 -0.395235  0.093216  0.206040 -0.164124  0.302261   \n",
              "sex      -0.060351 -0.046439  0.143460  0.098322 -0.032990  0.113060   \n",
              "cp        0.041561  0.293367 -0.392937 -0.146692  0.116854 -0.195356   \n",
              "trtbps   -0.115367 -0.048023  0.068526  0.194600 -0.122873  0.099248   \n",
              "chol     -0.147602 -0.005308  0.064099  0.050086  0.000417  0.086878   \n",
              "fbs      -0.083081 -0.007169  0.024729  0.004514 -0.058654  0.144935   \n",
              "restecg   1.000000  0.041210 -0.068807 -0.056251  0.090402 -0.083112   \n",
              "thalachh  0.041210  1.000000 -0.377411 -0.342201  0.384754 -0.228311   \n",
              "exng     -0.068807 -0.377411  1.000000  0.286766 -0.256106  0.125377   \n",
              "oldpeak  -0.056251 -0.342201  0.286766  1.000000 -0.576314  0.236560   \n",
              "slp       0.090402  0.384754 -0.256106 -0.576314  1.000000 -0.092236   \n",
              "caa      -0.083112 -0.228311  0.125377  0.236560 -0.092236  1.000000   \n",
              "thall    -0.010473 -0.094910  0.205826  0.209090 -0.103314  0.160085   \n",
              "output    0.134874  0.419955 -0.435601 -0.429146  0.343940 -0.408992   \n",
              "\n",
              "             thall    output  \n",
              "age       0.065317 -0.221476  \n",
              "sex       0.211452 -0.283609  \n",
              "cp       -0.160370  0.432080  \n",
              "trtbps    0.062870 -0.146269  \n",
              "chol      0.096810 -0.081437  \n",
              "fbs      -0.032752 -0.026826  \n",
              "restecg  -0.010473  0.134874  \n",
              "thalachh -0.094910  0.419955  \n",
              "exng      0.205826 -0.435601  \n",
              "oldpeak   0.209090 -0.429146  \n",
              "slp      -0.103314  0.343940  \n",
              "caa       0.160085 -0.408992  \n",
              "thall     1.000000 -0.343101  \n",
              "output   -0.343101  1.000000  "
            ]
          },
          "execution_count": 12,
          "metadata": {},
          "output_type": "execute_result"
        }
      ],
      "source": [
        "heart.corr()"
      ]
    },
    {
      "cell_type": "markdown",
      "id": "d0149445",
      "metadata": {
        "id": "d0149445"
      },
      "source": [
        "# Data Visualization"
      ]
    },
    {
      "cell_type": "markdown",
      "id": "4212d098",
      "metadata": {
        "id": "4212d098"
      },
      "source": [
        "**Univariate Analysis**"
      ]
    },
    {
      "cell_type": "code",
      "execution_count": null,
      "id": "c5ab3702",
      "metadata": {
        "id": "c5ab3702",
        "outputId": "ad99749b-8f2f-43c7-d106-a181e7d643a6"
      },
      "outputs": [
        {
          "data": {
            "image/png": "[encoded data removed]",
            "text/plain": [
              "<Figure size 1000x600 with 1 Axes>"
            ]
          },
          "metadata": {},
          "output_type": "display_data"
        }
      ],
      "source": [
        "#Distribution of age\n",
        "\n",
        "# Set the style\n",
        "sns.set(style=\"whitegrid\")\n",
        "\n",
        "\n",
        "%matplotlib inline\n",
        "\n",
        "# Choose a color palette\n",
        "palette = \"viridis\"  # You can choose any other Seaborn color palette\n",
        "\n",
        "# Create the countplot\n",
        "plt.figure(figsize=(10, 6))\n",
        "sns.countplot(x='sex', data=heart, palette=palette)\n",
        "\n",
        "# Customize plot aesthetics\n",
        "plt.title(\"Distribution of Gender\", fontsize=16)\n",
        "plt.xlabel(\"Gender\", fontsize=14)\n",
        "plt.ylabel(\"Count\", fontsize=14)\n",
        "plt.xticks(fontsize=12)\n",
        "plt.yticks(fontsize=12)\n",
        "\n",
        "# Display the plot\n",
        "plt.show()\n"
      ]
    },
    {
      "cell_type": "code",
      "execution_count": null,
      "id": "2d322e22",
      "metadata": {
        "id": "2d322e22"
      },
      "outputs": [],
      "source": [
        "def count_plot_sns(x,xlabel,ylabel,title):\n",
        "    sns.countplot(data=heart,x=x)\n",
        "    # Customize plot aesthetics\n",
        "    plt.title(title, fontsize=16)\n",
        "    plt.xlabel(xlabel, fontsize=14)\n",
        "    plt.ylabel(ylabel, fontsize=14)\n",
        "    plt.xticks(fontsize=12)\n",
        "    plt.yticks(fontsize=12)\n",
        "    plt.show()"
      ]
    },
    {
      "cell_type": "code",
      "execution_count": null,
      "id": "4c59e98e",
      "metadata": {
        "id": "4c59e98e",
        "outputId": "5cb730aa-7b0f-42cd-a4cb-73086752408b"
      },
      "outputs": [
        {
          "data": {
            "text/html": [
              "<div>\n",
              "<style scoped>\n",
              "    .dataframe tbody tr th:only-of-type {\n",
              "        vertical-align: middle;\n",
              "    }\n",
              "\n",
              "    .dataframe tbody tr th {\n",
              "        vertical-align: top;\n",
              "    }\n",
              "\n",
              "    .dataframe thead th {\n",
              "        text-align: right;\n",
              "    }\n",
              "</style>\n",
              "<table border=\"1\" class=\"dataframe\">\n",
              "  <thead>\n",
              "    <tr style=\"text-align: right;\">\n",
              "      <th></th>\n",
              "      <th>age</th>\n",
              "      <th>sex</th>\n",
              "      <th>cp</th>\n",
              "      <th>trtbps</th>\n",
              "      <th>chol</th>\n",
              "      <th>fbs</th>\n",
              "      <th>restecg</th>\n",
              "      <th>thalachh</th>\n",
              "      <th>exng</th>\n",
              "      <th>oldpeak</th>\n",
              "      <th>slp</th>\n",
              "      <th>caa</th>\n",
              "      <th>thall</th>\n",
              "      <th>output</th>\n",
              "    </tr>\n",
              "  </thead>\n",
              "  <tbody>\n",
              "    <tr>\n",
              "      <th>0</th>\n",
              "      <td>63</td>\n",
              "      <td>1</td>\n",
              "      <td>3</td>\n",
              "      <td>145</td>\n",
              "      <td>233</td>\n",
              "      <td>1</td>\n",
              "      <td>0</td>\n",
              "      <td>150</td>\n",
              "      <td>0</td>\n",
              "      <td>2.3</td>\n",
              "      <td>0</td>\n",
              "      <td>0</td>\n",
              "      <td>1</td>\n",
              "      <td>1</td>\n",
              "    </tr>\n",
              "    <tr>\n",
              "      <th>1</th>\n",
              "      <td>37</td>\n",
              "      <td>1</td>\n",
              "      <td>2</td>\n",
              "      <td>130</td>\n",
              "      <td>250</td>\n",
              "      <td>0</td>\n",
              "      <td>1</td>\n",
              "      <td>187</td>\n",
              "      <td>0</td>\n",
              "      <td>3.5</td>\n",
              "      <td>0</td>\n",
              "      <td>0</td>\n",
              "      <td>2</td>\n",
              "      <td>1</td>\n",
              "    </tr>\n",
              "    <tr>\n",
              "      <th>2</th>\n",
              "      <td>41</td>\n",
              "      <td>0</td>\n",
              "      <td>1</td>\n",
              "      <td>130</td>\n",
              "      <td>204</td>\n",
              "      <td>0</td>\n",
              "      <td>0</td>\n",
              "      <td>172</td>\n",
              "      <td>0</td>\n",
              "      <td>1.4</td>\n",
              "      <td>2</td>\n",
              "      <td>0</td>\n",
              "      <td>2</td>\n",
              "      <td>1</td>\n",
              "    </tr>\n",
              "    <tr>\n",
              "      <th>3</th>\n",
              "      <td>56</td>\n",
              "      <td>1</td>\n",
              "      <td>1</td>\n",
              "      <td>120</td>\n",
              "      <td>236</td>\n",
              "      <td>0</td>\n",
              "      <td>1</td>\n",
              "      <td>178</td>\n",
              "      <td>0</td>\n",
              "      <td>0.8</td>\n",
              "      <td>2</td>\n",
              "      <td>0</td>\n",
              "      <td>2</td>\n",
              "      <td>1</td>\n",
              "    </tr>\n",
              "    <tr>\n",
              "      <th>4</th>\n",
              "      <td>57</td>\n",
              "      <td>0</td>\n",
              "      <td>0</td>\n",
              "      <td>120</td>\n",
              "      <td>354</td>\n",
              "      <td>0</td>\n",
              "      <td>1</td>\n",
              "      <td>163</td>\n",
              "      <td>1</td>\n",
              "      <td>0.6</td>\n",
              "      <td>2</td>\n",
              "      <td>0</td>\n",
              "      <td>2</td>\n",
              "      <td>1</td>\n",
              "    </tr>\n",
              "  </tbody>\n",
              "</table>\n",
              "</div>"
            ],
            "text/plain": [
              "   age  sex  cp  trtbps  chol  fbs  restecg  thalachh  exng  oldpeak  slp  \\\n",
              "0   63    1   3     145   233    1        0       150     0      2.3    0   \n",
              "1   37    1   2     130   250    0        1       187     0      3.5    0   \n",
              "2   41    0   1     130   204    0        0       172     0      1.4    2   \n",
              "3   56    1   1     120   236    0        1       178     0      0.8    2   \n",
              "4   57    0   0     120   354    0        1       163     1      0.6    2   \n",
              "\n",
              "   caa  thall  output  \n",
              "0    0      1       1  \n",
              "1    0      2       1  \n",
              "2    0      2       1  \n",
              "3    0      2       1  \n",
              "4    0      2       1  "
            ]
          },
          "execution_count": 15,
          "metadata": {},
          "output_type": "execute_result"
        }
      ],
      "source": [
        "heart.head()"
      ]
    },
    {
      "cell_type": "code",
      "execution_count": null,
      "id": "68df788a",
      "metadata": {
        "id": "68df788a",
        "outputId": "75c2659e-d547-4415-e81f-7ff002305d28"
      },
      "outputs": [
        {
          "data": {
            "image/png": "[encoded data removed]",
            "text/plain": [
              "<Figure size 640x480 with 1 Axes>"
            ]
          },
          "metadata": {},
          "output_type": "display_data"
        }
      ],
      "source": [
        "count_plot_sns('cp','Chest Pain Type','Count','Distribution of Cp ')"
      ]
    },
    {
      "cell_type": "code",
      "execution_count": null,
      "id": "a667d685",
      "metadata": {
        "id": "a667d685",
        "outputId": "3021c0d3-2dd4-40e5-e63f-594804a3145d"
      },
      "outputs": [
        {
          "data": {
            "image/png": "[encoded data removed]",
            "text/plain": [
              "<Figure size 640x480 with 1 Axes>"
            ]
          },
          "metadata": {},
          "output_type": "display_data"
        }
      ],
      "source": [
        "count_plot_sns('fbs','Fasting Blood Sugar','Count','Distribution of Fbs')"
      ]
    },
    {
      "cell_type": "code",
      "execution_count": null,
      "id": "9adf392c",
      "metadata": {
        "id": "9adf392c",
        "outputId": "1f2222d4-c4e1-4cdc-85e7-27ccd9bb6773"
      },
      "outputs": [
        {
          "data": {
            "image/png": "[encoded data removed]",
            "text/plain": [
              "<Figure size 640x480 with 1 Axes>"
            ]
          },
          "metadata": {},
          "output_type": "display_data"
        }
      ],
      "source": [
        "count_plot_sns('restecg','Rest Ecg','Count','Distribution of Rest ECG')"
      ]
    },
    {
      "cell_type": "code",
      "execution_count": null,
      "id": "a6de7971",
      "metadata": {
        "id": "a6de7971",
        "outputId": "66cf0851-6153-4fd4-8f87-0dc255ecbc6b"
      },
      "outputs": [
        {
          "data": {
            "image/png": "[encoded data removed]",
            "text/plain": [
              "<Figure size 640x480 with 1 Axes>"
            ]
          },
          "metadata": {},
          "output_type": "display_data"
        }
      ],
      "source": [
        "count_plot_sns('exng','Exercise Induced Angina','Count','Distribution of exng')"
      ]
    },
    {
      "cell_type": "code",
      "execution_count": null,
      "id": "97d6fcb1",
      "metadata": {
        "id": "97d6fcb1",
        "outputId": "403ca4ae-07f1-48b6-9ea2-68ce18d553ff"
      },
      "outputs": [
        {
          "data": {
            "image/png": "[encoded data removed]",
            "text/plain": [
              "<Figure size 640x480 with 1 Axes>"
            ]
          },
          "metadata": {},
          "output_type": "display_data"
        }
      ],
      "source": [
        "count_plot_sns('thall','Tahllium Stress Test','Count','Distribution of thall')"
      ]
    },
    {
      "cell_type": "code",
      "execution_count": null,
      "id": "6372003e",
      "metadata": {
        "id": "6372003e",
        "outputId": "c135c5eb-718b-4792-c2e7-8c45b5053ca2"
      },
      "outputs": [
        {
          "name": "stdout",
          "output_type": "stream",
          "text": [
            "----------------------------------------------------\n",
            "sex\n",
            "1    206\n",
            "0     96\n",
            "Name: count, dtype: int64\n",
            "----------------------------------------------------\n",
            "cp\n",
            "0    143\n",
            "2     86\n",
            "1     50\n",
            "3     23\n",
            "Name: count, dtype: int64\n",
            "----------------------------------------------------\n",
            "fbs\n",
            "0    257\n",
            "1     45\n",
            "Name: count, dtype: int64\n",
            "----------------------------------------------------\n",
            "restecg\n",
            "1    151\n",
            "0    147\n",
            "2      4\n",
            "Name: count, dtype: int64\n",
            "----------------------------------------------------\n",
            "exng\n",
            "0    203\n",
            "1     99\n",
            "Name: count, dtype: int64\n",
            "----------------------------------------------------\n",
            "slp\n",
            "2    141\n",
            "1    140\n",
            "0     21\n",
            "Name: count, dtype: int64\n",
            "----------------------------------------------------\n",
            "thall\n",
            "2    165\n",
            "3    117\n",
            "1     18\n",
            "0      2\n",
            "Name: count, dtype: int64\n"
          ]
        }
      ],
      "source": [
        "for column in heart.drop('output',axis=1):\n",
        "    if heart[column].nunique()<=4:\n",
        "        print(\"----------------------------------------------------\")\n",
        "        print(heart[column].value_counts())"
      ]
    },
    {
      "cell_type": "code",
      "execution_count": null,
      "id": "a57c4e02",
      "metadata": {
        "id": "a57c4e02",
        "outputId": "0ed0a6ea-2898-4506-81df-dfd4f3846c3f"
      },
      "outputs": [
        {
          "name": "stderr",
          "output_type": "stream",
          "text": [
            "C:\\ProgramData\\anaconda3\\Lib\\site-packages\\seaborn\\axisgrid.py:118: UserWarning: The figure layout has changed to tight\n",
            "  self._figure.tight_layout(*args, **kwargs)\n"
          ]
        },
        {
          "data": {
            "text/plain": [
              "<Figure size 1000x1000 with 0 Axes>"
            ]
          },
          "metadata": {},
          "output_type": "display_data"
        },
        {
          "data": {
            "image/png": "[encoded data removed]",
            "text/plain": [
              "<Figure size 500x500 with 1 Axes>"
            ]
          },
          "metadata": {},
          "output_type": "display_data"
        }
      ],
      "source": [
        "plt.figure(figsize=(10,10))\n",
        "sns.displot(heart.age, color=\"red\", label=\"Age\", kde= True)\n",
        "plt.legend()\n",
        "plt.show()"
      ]
    },
    {
      "cell_type": "code",
      "execution_count": null,
      "id": "6085dbc9",
      "metadata": {
        "id": "6085dbc9",
        "outputId": "9c3f1f33-f758-4617-9aa7-89012d8a346e"
      },
      "outputs": [
        {
          "name": "stderr",
          "output_type": "stream",
          "text": [
            "C:\\ProgramData\\anaconda3\\Lib\\site-packages\\seaborn\\axisgrid.py:118: UserWarning: The figure layout has changed to tight\n",
            "  self._figure.tight_layout(*args, **kwargs)\n"
          ]
        },
        {
          "data": {
            "text/plain": [
              "<matplotlib.legend.Legend at 0x1701fce6310>"
            ]
          },
          "execution_count": 24,
          "metadata": {},
          "output_type": "execute_result"
        },
        {
          "data": {
            "text/plain": [
              "<Figure size 2000x2000 with 0 Axes>"
            ]
          },
          "metadata": {},
          "output_type": "display_data"
        },
        {
          "data": {
            "image/png": "[encoded data removed]",
            "text/plain": [
              "<Figure size 500x500 with 1 Axes>"
            ]
          },
          "metadata": {},
          "output_type": "display_data"
        }
      ],
      "source": [
        "plt.figure(figsize=(20,20))\n",
        "sns.displot(heart.trtbps , color=\"green\", label=\"Resting Blood Pressure\", kde= True)\n",
        "plt.legend()"
      ]
    },
    {
      "cell_type": "markdown",
      "id": "686f0ea4",
      "metadata": {
        "id": "686f0ea4"
      },
      "source": [
        "Trtbs has the highest count around 130"
      ]
    },
    {
      "cell_type": "markdown",
      "id": "5b49162d",
      "metadata": {
        "id": "5b49162d"
      },
      "source": [
        "# Bi variate analysis"
      ]
    },
    {
      "cell_type": "markdown",
      "id": "0c362a5b",
      "metadata": {
        "id": "0c362a5b"
      },
      "source": [
        "age vs Heart Attack"
      ]
    },
    {
      "cell_type": "code",
      "execution_count": null,
      "id": "f7619180",
      "metadata": {
        "id": "f7619180"
      },
      "outputs": [],
      "source": [
        "# Age where there are less likelihood of hear attack\n",
        "age_0=heart[heart['output']==0]['age']\n",
        "#vice versa\n",
        "age_1=heart[heart['output']==1]['age']"
      ]
    },
    {
      "cell_type": "code",
      "execution_count": null,
      "id": "e53e0517",
      "metadata": {
        "id": "e53e0517",
        "outputId": "0658eb13-924b-4714-aa4b-34e7918392d5"
      },
      "outputs": [
        {
          "name": "stderr",
          "output_type": "stream",
          "text": [
            "C:\\Users\\taaha\\AppData\\Local\\Temp\\ipykernel_25156\\515394469.py:2: UserWarning: \n",
            "\n",
            "`distplot` is a deprecated function and will be removed in seaborn v0.14.0.\n",
            "\n",
            "Please adapt your code to use either `displot` (a figure-level function with\n",
            "similar flexibility) or `histplot` (an axes-level function for histograms).\n",
            "\n",
            "For a guide to updating your code to use the new functions, please see\n",
            "https://gist.github.com/mwaskom/de44147ed2974457ad6372750bbe5751\n",
            "\n",
            "  sns.distplot(age_0,kde=True,color='green')\n",
            "C:\\Users\\taaha\\AppData\\Local\\Temp\\ipykernel_25156\\515394469.py:3: UserWarning: \n",
            "\n",
            "`distplot` is a deprecated function and will be removed in seaborn v0.14.0.\n",
            "\n",
            "Please adapt your code to use either `displot` (a figure-level function with\n",
            "similar flexibility) or `histplot` (an axes-level function for histograms).\n",
            "\n",
            "For a guide to updating your code to use the new functions, please see\n",
            "https://gist.github.com/mwaskom/de44147ed2974457ad6372750bbe5751\n",
            "\n",
            "  sns.distplot(age_1,kde=True,color='red')\n"
          ]
        },
        {
          "data": {
            "image/png": "[encoded data removed]",
            "text/plain": [
              "<Figure size 1000x1000 with 1 Axes>"
            ]
          },
          "metadata": {},
          "output_type": "display_data"
        }
      ],
      "source": [
        "plt.figure(figsize=(10,10))\n",
        "sns.distplot(age_0,kde=True,color='green')\n",
        "sns.distplot(age_1,kde=True,color='red')\n",
        "plt.show()"
      ]
    },
    {
      "cell_type": "markdown",
      "id": "8089ba4d",
      "metadata": {
        "id": "8089ba4d"
      },
      "source": [
        "The relationship of Cholestrol with output"
      ]
    },
    {
      "cell_type": "code",
      "execution_count": null,
      "id": "bc4b6b10",
      "metadata": {
        "id": "bc4b6b10",
        "outputId": "65471dac-6991-49fc-edda-8040723a49b3"
      },
      "outputs": [
        {
          "data": {
            "image/png": "[encoded data removed]",
            "text/plain": [
              "<Figure size 640x480 with 1 Axes>"
            ]
          },
          "metadata": {},
          "output_type": "display_data"
        }
      ],
      "source": [
        "sns.swarmplot(data=heart,x='output', y='chol')\n",
        "plt.show()"
      ]
    },
    {
      "cell_type": "markdown",
      "id": "fd19c26d",
      "metadata": {
        "id": "fd19c26d"
      },
      "source": [
        "# Age and Rest Blood pressure"
      ]
    },
    {
      "cell_type": "code",
      "execution_count": null,
      "id": "b4800307",
      "metadata": {
        "id": "b4800307",
        "outputId": "b8bd5be8-9af7-4991-a86f-23e8cf396c15"
      },
      "outputs": [
        {
          "name": "stderr",
          "output_type": "stream",
          "text": [
            "C:\\ProgramData\\anaconda3\\Lib\\site-packages\\seaborn\\axisgrid.py:118: UserWarning: The figure layout has changed to tight\n",
            "  self._figure.tight_layout(*args, **kwargs)\n"
          ]
        },
        {
          "data": {
            "image/png": "[encoded data removed]",
            "text/plain": [
              "<Figure size 500x500 with 1 Axes>"
            ]
          },
          "metadata": {},
          "output_type": "display_data"
        }
      ],
      "source": [
        "sns.lmplot(x='age',y='trtbps',data=heart)\n",
        "plt.show()"
      ]
    },
    {
      "cell_type": "code",
      "execution_count": null,
      "id": "9fa4a9c7",
      "metadata": {
        "id": "9fa4a9c7",
        "outputId": "c816fc87-daa0-44ec-8fa6-86d784269643"
      },
      "outputs": [
        {
          "data": {
            "text/plain": [
              "<Axes: >"
            ]
          },
          "execution_count": 49,
          "metadata": {},
          "output_type": "execute_result"
        },
        {
          "data": {
            "image/png": "[encoded data removed]",
            "text/plain": [
              "<Figure size 640x480 with 2 Axes>"
            ]
          },
          "metadata": {},
          "output_type": "display_data"
        }
      ],
      "source": [
        "corr=heart.corr()\n",
        "sns.heatmap(corr, cmap=\"coolwarm\")"
      ]
    },
    {
      "cell_type": "markdown",
      "id": "ad27124b",
      "metadata": {
        "id": "ad27124b"
      },
      "source": [
        "# Data Preprocessing"
      ]
    },
    {
      "cell_type": "markdown",
      "id": "633c62a3",
      "metadata": {
        "id": "633c62a3"
      },
      "source": [
        "**All the Features are numeric, so no need for One hot encoding**"
      ]
    },
    {
      "cell_type": "markdown",
      "id": "5474dfce",
      "metadata": {
        "id": "5474dfce"
      },
      "source": [
        "Dividing data into Features and labels"
      ]
    },
    {
      "cell_type": "code",
      "execution_count": null,
      "id": "053964a5",
      "metadata": {
        "id": "053964a5"
      },
      "outputs": [],
      "source": [
        "#features\n",
        "X=heart.iloc[:,:-1].values\n",
        "#labels\n",
        "y=heart.iloc[:,-1].values"
      ]
    },
    {
      "cell_type": "code",
      "execution_count": null,
      "id": "0135c46e",
      "metadata": {
        "id": "0135c46e",
        "outputId": "b73c786a-f2d4-4d90-e526-391527363662"
      },
      "outputs": [
        {
          "name": "stdout",
          "output_type": "stream",
          "text": [
            "X shape is:(302, 13)\n",
            "y shape is: (302,)\n"
          ]
        }
      ],
      "source": [
        "#print shape of features and labels\n",
        "print(f\"X shape is:{X.shape}\\ny shape is: {y.shape}\")"
      ]
    },
    {
      "cell_type": "markdown",
      "id": "603d972c",
      "metadata": {
        "id": "603d972c"
      },
      "source": [
        "**Splitting data into Training and test set**"
      ]
    },
    {
      "cell_type": "markdown",
      "id": "e4dcff3e",
      "metadata": {
        "id": "e4dcff3e"
      },
      "source": [
        "Stratified split ensures that each subset of the data (train and test sets) maintains the same proportion of classes as the original dataset, preventing an imbalance in the distribution of classes between training and testing.\n",
        "**Stratify=y ensures stratified sampling**"
      ]
    },
    {
      "cell_type": "code",
      "execution_count": null,
      "id": "ebf146ed",
      "metadata": {
        "id": "ebf146ed"
      },
      "outputs": [],
      "source": [
        "from sklearn.model_selection import train_test_split\n",
        "\n",
        "X_train,X_test,y_train,y_test=train_test_split(X,y,random_state=42,test_size=0.2,stratify=y)"
      ]
    },
    {
      "cell_type": "markdown",
      "id": "c435f53f",
      "metadata": {
        "id": "c435f53f"
      },
      "source": [
        "Shapes of the Dataset after split"
      ]
    },
    {
      "cell_type": "code",
      "execution_count": null,
      "id": "48675d00",
      "metadata": {
        "id": "48675d00",
        "outputId": "02227a4f-3267-4598-ab91-96ea5af9bdbc"
      },
      "outputs": [
        {
          "name": "stdout",
          "output_type": "stream",
          "text": [
            "(241, 13)\n",
            "(61, 13)\n",
            "(241,)\n",
            "(61,)\n"
          ]
        }
      ],
      "source": [
        "print(X_train.shape)\n",
        "print(X_test.shape)\n",
        "print(y_train.shape)\n",
        "print(y_test.shape)"
      ]
    },
    {
      "cell_type": "markdown",
      "id": "8aa0e8b1",
      "metadata": {
        "id": "8aa0e8b1"
      },
      "source": [
        "# Scaling the features"
      ]
    },
    {
      "cell_type": "markdown",
      "id": "12cc6074",
      "metadata": {
        "id": "12cc6074"
      },
      "source": [
        "**Why scale??**"
      ]
    },
    {
      "cell_type": "markdown",
      "id": "a27ca037",
      "metadata": {
        "id": "a27ca037"
      },
      "source": [
        "Features with larger scales can dominate the learning process, leading the algorithm to give more importance to those features. This can result in a model that is biased toward certain features and may not generalize well to new data."
      ]
    },
    {
      "cell_type": "markdown",
      "id": "8eadb726",
      "metadata": {
        "id": "8eadb726"
      },
      "source": [
        "**Is scaling required in Decision Trees?**"
      ]
    },
    {
      "cell_type": "markdown",
      "id": "be573f08",
      "metadata": {
        "id": "be573f08"
      },
      "source": [
        "Decision trees do not rely on distance calculations between data points. Unlike algorithms such as k-nearest neighbors or support vector machines, where distances play a crucial role, decision trees are not influenced by the scale of the features."
      ]
    },
    {
      "cell_type": "markdown",
      "id": "48addc94",
      "metadata": {
        "id": "48addc94"
      },
      "source": [
        "Instantiating a Decision Tree Model Without Scaling"
      ]
    },
    {
      "cell_type": "code",
      "execution_count": null,
      "id": "d26bc8c3",
      "metadata": {
        "id": "d26bc8c3"
      },
      "outputs": [],
      "source": [
        "from sklearn.tree import DecisionTreeClassifier\n",
        "clf=DecisionTreeClassifier()\n",
        "clf=clf.fit(X_train,y_train)"
      ]
    },
    {
      "cell_type": "code",
      "execution_count": null,
      "id": "c530440b",
      "metadata": {
        "id": "c530440b"
      },
      "outputs": [],
      "source": [
        "y_preds=clf.predict(X_test)"
      ]
    },
    {
      "cell_type": "code",
      "execution_count": null,
      "id": "867d672a",
      "metadata": {
        "id": "867d672a"
      },
      "outputs": [],
      "source": [
        "from sklearn.metrics import confusion_matrix, classification_report\n",
        "\n",
        "con=confusion_matrix(y_test,y_preds)"
      ]
    },
    {
      "cell_type": "code",
      "execution_count": null,
      "id": "070a4d23",
      "metadata": {
        "id": "070a4d23",
        "outputId": "8a4e7960-cd7b-4d72-de34-d34b86d0972a"
      },
      "outputs": [
        {
          "data": {
            "image/png": "[encoded data removed]",
            "text/plain": [
              "<Figure size 800x600 with 1 Axes>"
            ]
          },
          "metadata": {},
          "output_type": "display_data"
        }
      ],
      "source": [
        "plt.figure(figsize=(8, 6))\n",
        "sns.heatmap(con, annot=True, fmt=\"d\", cmap=\"Blues\", cbar=False,\n",
        "            xticklabels=['Predicted 0', 'Predicted 1'], yticklabels=['Actual 0', 'Actual 1'])\n",
        "plt.title('Confusion Matrix')\n",
        "plt.xlabel('Predicted Label')\n",
        "plt.ylabel('True Label')\n",
        "plt.show()"
      ]
    },
    {
      "cell_type": "code",
      "execution_count": null,
      "id": "f18039ac",
      "metadata": {
        "id": "f18039ac",
        "outputId": "93fb3e1d-516c-4463-967d-a01baf6f80fc"
      },
      "outputs": [
        {
          "name": "stdout",
          "output_type": "stream",
          "text": [
            "              precision    recall  f1-score   support\n",
            "\n",
            "           0       0.87      0.71      0.78        28\n",
            "           1       0.79      0.91      0.85        33\n",
            "\n",
            "    accuracy                           0.82        61\n",
            "   macro avg       0.83      0.81      0.81        61\n",
            "weighted avg       0.83      0.82      0.82        61\n",
            "\n"
          ]
        }
      ],
      "source": [
        "print(classification_report(y_test,y_preds))"
      ]
    },
    {
      "cell_type": "code",
      "execution_count": null,
      "id": "3f5d7b08",
      "metadata": {
        "id": "3f5d7b08",
        "outputId": "d5ba4743-1939-4f43-be62-aee0bc35339b"
      },
      "outputs": [
        {
          "name": "stdout",
          "output_type": "stream",
          "text": [
            " Accuracy :81.97%, Precision: 78.95%, Recall : 90.91%, f1Score : 84.51%\n"
          ]
        }
      ],
      "source": [
        "from sklearn.metrics import accuracy_score\n",
        "from sklearn.metrics import f1_score\n",
        "from sklearn.metrics import precision_score\n",
        "from sklearn.metrics import recall_score\n",
        "\n",
        "acc=accuracy_score(y_test,y_preds)\n",
        "f1=f1_score(y_test,y_preds)\n",
        "pre=precision_score(y_test,y_preds)\n",
        "rec=recall_score(y_test,y_preds)\n",
        "print(f\" Accuracy :{acc*100:.2f}%, Precision: {pre*100:.2f}%, Recall : {rec*100:.2f}%, f1Score : {f1*100:.2f}%\")"
      ]
    },
    {
      "cell_type": "markdown",
      "id": "505762ae",
      "metadata": {
        "id": "505762ae"
      },
      "source": [
        "**Evaluating model on Train data to see Overfitting**"
      ]
    },
    {
      "cell_type": "code",
      "execution_count": null,
      "id": "45d507dd",
      "metadata": {
        "id": "45d507dd"
      },
      "outputs": [],
      "source": [
        "tr_preds=clf.predict(X_train)"
      ]
    },
    {
      "cell_type": "code",
      "execution_count": null,
      "id": "edffc726",
      "metadata": {
        "id": "edffc726",
        "outputId": "a1c08912-9edc-426f-bdde-9573890501d6"
      },
      "outputs": [
        {
          "name": "stdout",
          "output_type": "stream",
          "text": [
            " Accuracy :100.00%, Precision: 100.00%, Recall : 100.00%, f1Score : 100.00%\n"
          ]
        }
      ],
      "source": [
        "acc=accuracy_score(y_train,tr_preds)\n",
        "f1=f1_score(y_train,tr_preds)\n",
        "pre=precision_score(y_train,tr_preds)\n",
        "rec=recall_score(y_train,tr_preds)\n",
        "print(f\" Accuracy :{acc*100:.2f}%, Precision: {pre*100:.2f}%, Recall : {rec*100:.2f}%, f1Score : {f1*100:.2f}%\")"
      ]
    },
    {
      "cell_type": "markdown",
      "id": "da67d61f",
      "metadata": {
        "id": "da67d61f"
      },
      "source": [
        "**The Problem of Overfitting**\n",
        "The result of Model on train data shows it has learnt the train data and Generalizing on Test data. The model is Overfitting. We have some techniques to solve this"
      ]
    },
    {
      "cell_type": "markdown",
      "id": "24ae76b7",
      "metadata": {
        "id": "24ae76b7"
      },
      "source": [
        "# Cross Validation"
      ]
    },
    {
      "cell_type": "markdown",
      "id": "b160b1c7",
      "metadata": {
        "id": "b160b1c7"
      },
      "source": [
        "Cross-validation acts as a robust evaluation technique in machine learning, systematically partitioning the dataset into multiple folds for training and testing. This mitigates overfitting concerns and provides a more reliable estimate of a model's generalization performance. It is essential for hyperparameter tuning, model selection, and understanding how well the model adapts to diverse data subsets, enhancing overall performance assessment and stability."
      ]
    },
    {
      "cell_type": "code",
      "execution_count": null,
      "id": "c10652f3",
      "metadata": {
        "id": "c10652f3"
      },
      "outputs": [],
      "source": [
        "from sklearn.model_selection import cross_val_score,KFold\n",
        "kf=KFold(n_splits=7, shuffle=True,random_state=42)\n",
        "clf=DecisionTreeClassifier()\n",
        "cv_results=cross_val_score(clf,X,y,cv=kf)"
      ]
    },
    {
      "cell_type": "code",
      "execution_count": null,
      "id": "82a903fa",
      "metadata": {
        "id": "82a903fa",
        "outputId": "eca0a24c-4a2e-4950-8bc6-3f77200f393a"
      },
      "outputs": [
        {
          "name": "stdout",
          "output_type": "stream",
          "text": [
            "[0.75       0.79069767 0.76744186 0.79069767 0.74418605 0.81395349\n",
            " 0.74418605]\n"
          ]
        }
      ],
      "source": [
        "print(cv_results)"
      ]
    },
    {
      "cell_type": "code",
      "execution_count": null,
      "id": "32df43be",
      "metadata": {
        "id": "32df43be",
        "outputId": "1f5cf31b-8352-4201-a4bf-0ae746d332bd"
      },
      "outputs": [
        {
          "data": {
            "text/plain": [
              "0.7715946843853819"
            ]
          },
          "execution_count": 129,
          "metadata": {},
          "output_type": "execute_result"
        }
      ],
      "source": [
        "np.mean(cv_results)"
      ]
    },
    {
      "cell_type": "code",
      "execution_count": null,
      "id": "ba0f6dbd",
      "metadata": {
        "id": "ba0f6dbd",
        "outputId": "7946a0a6-b54d-4297-e6ec-c1a0551ccea3"
      },
      "outputs": [
        {
          "data": {
            "text/plain": [
              "0.025383233870325782"
            ]
          },
          "execution_count": 130,
          "metadata": {},
          "output_type": "execute_result"
        }
      ],
      "source": [
        "np.std(cv_results)"
      ]
    },
    {
      "cell_type": "code",
      "execution_count": null,
      "id": "203d5d5f",
      "metadata": {
        "id": "203d5d5f",
        "outputId": "4ab78d76-7497-4563-b6de-fec5c415b00a"
      },
      "outputs": [
        {
          "data": {
            "text/plain": [
              "array([0.74418605, 0.81046512])"
            ]
          },
          "execution_count": 131,
          "metadata": {},
          "output_type": "execute_result"
        }
      ],
      "source": [
        "np.quantile(cv_results,[0.025,0.975])"
      ]
    },
    {
      "cell_type": "markdown",
      "id": "58f7797e",
      "metadata": {
        "id": "58f7797e"
      },
      "source": [
        "The mean , std and 5 ,95 % quantile of th model seem in Harmony"
      ]
    },
    {
      "cell_type": "markdown",
      "id": "e90e4b43",
      "metadata": {
        "id": "e90e4b43"
      },
      "source": [
        "# Decision Tree Classifier Parameters"
      ]
    },
    {
      "cell_type": "markdown",
      "id": "f780603d",
      "metadata": {
        "id": "f780603d"
      },
      "source": [
        "\n",
        "**criterion:**\n",
        "The function to measure the quality of a split. For classification, \"gini\" (Gini impurity) or \"entropy\" (information gain) can be used.\n",
        "Default: \"gini\"\n",
        "\n",
        "**splitter:**\n",
        "The strategy used to choose the split at each node. Options are \"best\" (chooses the best split) or \"random\" (chooses the best random split).\n",
        "Default: \"best\"\n",
        "\n",
        "**max_depth:**\n",
        "The maximum depth of the tree. Limits the maximum depth of the tree to prevent overfitting.\n",
        "Default: None (unlimited depth)\n",
        "\n",
        "**min_samples_split:**\n",
        "The minimum number of samples required to split an internal node. If a node has fewer samples than this, it will not be split.\n",
        "Default: 2\n",
        "\n",
        "**min_samples_leaf:**\n",
        "The minimum number of samples required to be at a leaf node. A smaller value may lead to a more complex model, while a larger value may smooth the model.\n",
        "Default: 1\n",
        "\n",
        "**min_weight_fraction_leaf:**\n",
        "Similar to min_samples_leaf but expressed as a fraction of the total sum of weights.\n",
        "Default: 0.0\n",
        "\n",
        "**max_features:**\n",
        "Definition: The maximum number of features considered for splitting a node. It helps prevent overfitting.\n",
        "Default: None (consider all features)\n",
        "\n",
        "**max_leaf_nodes:**\n",
        "Definition: The maximum number of leaf nodes. Limits the growth of the tree.\n",
        "Default: None\n",
        "\n",
        "**min_impurity_decrease:**\n",
        "A node will be split if this split induces a decrease of the impurity greater than or equal to this value.\n",
        "Default: 0.0\n"
      ]
    },
    {
      "cell_type": "markdown",
      "id": "dbd1b757",
      "metadata": {
        "id": "dbd1b757"
      },
      "source": [
        "**Hyper Parameter Tuning**\n",
        "\n",
        "Grid Search CV"
      ]
    },
    {
      "cell_type": "code",
      "execution_count": null,
      "id": "85b4d8b3",
      "metadata": {
        "id": "85b4d8b3",
        "outputId": "805cf9bb-f3e4-4141-8906-f891d2aea9f7"
      },
      "outputs": [
        {
          "name": "stdout",
          "output_type": "stream",
          "text": [
            "{'criterion': 'gini', 'max_depth': 10, 'max_features': 'log2', 'max_leaf_nodes': 10, 'min_samples_leaf': 1, 'min_samples_split': 10, 'splitter': 'best'} 0.8298469387755102\n"
          ]
        }
      ],
      "source": [
        "from sklearn.model_selection import GridSearchCV\n",
        "kf=KFold(n_splits=5, shuffle=True,random_state=42)\n",
        "param_grid = {\n",
        "    'criterion': ['gini', 'entropy'],\n",
        "    'splitter': ['best', 'random'],\n",
        "    'max_depth': [None, 5, 10, 15, 20],\n",
        "    'min_samples_split': [2, 5, 10],\n",
        "    'min_samples_leaf': [1, 2, 4],\n",
        "    'max_features': [None, 'sqrt', 'log2'],\n",
        "    'max_leaf_nodes': [None, 10, 20, 30],\n",
        "}\n",
        "clf=DecisionTreeClassifier()\n",
        "tree_cv=GridSearchCV(clf,param_grid,cv=kf)\n",
        "tree_cv.fit(X_train,y_train)\n",
        "print(tree_cv.best_params_,tree_cv.best_score_)"
      ]
    },
    {
      "cell_type": "markdown",
      "id": "c5cba7b1",
      "metadata": {
        "id": "c5cba7b1"
      },
      "source": [
        "Random Search CV"
      ]
    },
    {
      "cell_type": "code",
      "execution_count": null,
      "id": "03a72688",
      "metadata": {
        "id": "03a72688",
        "outputId": "46c63b40-823b-43bb-ee6d-1b76ceab926a"
      },
      "outputs": [
        {
          "name": "stdout",
          "output_type": "stream",
          "text": [
            "{'splitter': 'random', 'min_samples_split': 5, 'min_samples_leaf': 4, 'max_leaf_nodes': 10, 'max_features': None, 'max_depth': None, 'criterion': 'gini'} 0.8131802721088436\n"
          ]
        }
      ],
      "source": [
        "from sklearn.model_selection import RandomizedSearchCV\n",
        "kf=KFold(n_splits=5, shuffle=True,random_state=42)\n",
        "param_grid = {\n",
        "    'criterion': ['gini', 'entropy'],\n",
        "    'splitter': ['best', 'random'],\n",
        "    'max_depth': [None, 5, 10, 15, 20],\n",
        "    'min_samples_split': [2, 5, 10],\n",
        "    'min_samples_leaf': [1, 2, 4],\n",
        "    'max_features': [None, 'sqrt', 'log2'],\n",
        "    'max_leaf_nodes': [None, 10, 20, 30],\n",
        "}\n",
        "clf=DecisionTreeClassifier()\n",
        "rand_tree_cv=RandomizedSearchCV(clf,param_grid,cv=kf)\n",
        "rand_tree_cv.fit(X_train,y_train)\n",
        "print(rand_tree_cv.best_params_,rand_tree_cv.best_score_)"
      ]
    },
    {
      "cell_type": "markdown",
      "id": "2a342d59",
      "metadata": {
        "id": "2a342d59"
      },
      "source": [
        "**Why use Randomized Search CV?**\n",
        "\n",
        "\n",
        "Randomized Search is more computationally efficient than Grid Search, especially for large hyperparameter spaces.\n",
        "Exploration of Hyperparameter Space:\n",
        "\n",
        "It provides a thorough exploration of the hyperparameter space by randomly sampling combinations, potentially discovering optimal values.\n",
        "Better Performance with Limited Resources:\n",
        "\n",
        "Well-suited for situations with limited computational resources, achieving good results with fewer iterations."
      ]
    },
    {
      "cell_type": "markdown",
      "id": "7e389c0e",
      "metadata": {
        "id": "7e389c0e"
      },
      "source": [
        "**Evaluating on Test Data Set**"
      ]
    },
    {
      "cell_type": "code",
      "execution_count": null,
      "id": "16c0dc14",
      "metadata": {
        "id": "16c0dc14",
        "outputId": "e0ff7cd4-cb3e-44d8-f55c-3ac571936da8"
      },
      "outputs": [
        {
          "data": {
            "text/plain": [
              "78.68852459016394"
            ]
          },
          "execution_count": 141,
          "metadata": {},
          "output_type": "execute_result"
        }
      ],
      "source": [
        "test_score=rand_tree_cv.score(X_test,y_test)\n",
        "test_score*100"
      ]
    },
    {
      "cell_type": "markdown",
      "id": "4e04bf47",
      "metadata": {
        "id": "4e04bf47"
      },
      "source": [
        "So, now data accuracy on Train data is 81% and on test data is 78%. The problem of overfitting has been solved. The model has not learnt the Train data but has some Logic now"
      ]
    },
    {
      "cell_type": "code",
      "execution_count": null,
      "id": "55042ba4",
      "metadata": {
        "id": "55042ba4"
      },
      "outputs": [],
      "source": []
    }
  ],
  "metadata": {
    "kernelspec": {
      "display_name": "Python 3 (ipykernel)",
      "language": "python",
      "name": "python3"
    },
    "language_info": {
      "codemirror_mode": {
        "name": "ipython",
        "version": 3
      },
      "file_extension": ".py",
      "mimetype": "text/x-python",
      "name": "python",
      "nbconvert_exporter": "python",
      "pygments_lexer": "ipython3",
      "version": "3.11.5"
    },
    "colab": {
      "provenance": [],
      "include_colab_link": true
    }
  },
  "nbformat": 4,
  "nbformat_minor": 5
}